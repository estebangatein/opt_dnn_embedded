{
 "cells": [
  {
   "cell_type": "code",
   "execution_count": 3,
   "metadata": {},
   "outputs": [
    {
     "name": "stderr",
     "output_type": "stream",
     "text": [
      "2024-12-11 11:05:05.738353: E external/local_xla/xla/stream_executor/cuda/cuda_fft.cc:477] Unable to register cuFFT factory: Attempting to register factory for plugin cuFFT when one has already been registered\n",
      "WARNING: All log messages before absl::InitializeLog() is called are written to STDERR\n",
      "E0000 00:00:1733911505.753577   10266 cuda_dnn.cc:8310] Unable to register cuDNN factory: Attempting to register factory for plugin cuDNN when one has already been registered\n",
      "E0000 00:00:1733911505.758454   10266 cuda_blas.cc:1418] Unable to register cuBLAS factory: Attempting to register factory for plugin cuBLAS when one has already been registered\n",
      "2024-12-11 11:05:05.774938: I tensorflow/core/platform/cpu_feature_guard.cc:210] This TensorFlow binary is optimized to use available CPU instructions in performance-critical operations.\n",
      "To enable the following instructions: AVX2 FMA, in other operations, rebuild TensorFlow with the appropriate compiler flags.\n"
     ]
    }
   ],
   "source": [
    "import torch\n",
    "from model import TwoEE\n",
    "import pandas as pd\n",
    "import numpy as np\n",
    "import matplotlib.pyplot as plt\n",
    "import pickle as pkl\n",
    "import os\n",
    "from tensorflow.keras.utils import load_img, img_to_array\n",
    "from tensorflow.keras.preprocessing.sequence import pad_sequences\n",
    "from sklearn.metrics import accuracy_score, classification_report\n",
    "import onnxruntime as ort\n",
    "import os"
   ]
  },
  {
   "cell_type": "code",
   "execution_count": 4,
   "metadata": {},
   "outputs": [],
   "source": [
    "def dataset_creator(path_to_folder, max_by_experiment = 3):\n",
    "    col, fire, steer = 0, 0, 0\n",
    "    images, labels = [], []\n",
    "\n",
    "    for folder in os.listdir(path_to_folder):\n",
    "\n",
    "        if os.path.isdir(os.path.join(path_to_folder, folder)):\n",
    "\n",
    "            for file in os.listdir(os.path.join(path_to_folder, folder)):\n",
    "\n",
    "                if file.endswith('.txt'):\n",
    "                    if 'labels' in file and col < max_by_experiment:\n",
    "                        col += 1\n",
    "                        for pic in sorted(os.listdir(os.path.join(path_to_folder, folder, 'images'))):\n",
    "                            img = load_img(os.path.join(os.path.join(path_to_folder, folder, 'images'), pic), target_size=(200, 200), color_mode='grayscale')  # Ajustar tamaño y modo de color\n",
    "                            img_array = img_to_array(img) / 128.0 -1 # Normalizar la imagen\n",
    "                            images.append(img_array)\n",
    "                        \n",
    "                        labels_txt = np.loadtxt(os.path.join(path_to_folder, folder, file))\n",
    "\n",
    "                        for label in labels_txt:\n",
    "                            if label == 0:\n",
    "                                label = [np.array([1, 0]), np.array([np.nan]*4), np.array([np.nan])]\n",
    "                            elif label == 1:\n",
    "                                label = [np.array([0, 1]), np.array([np.nan]*4), np.array([np.nan])]\n",
    "                            label = pad_sequences(label, dtype='float32', padding='post', value=np.nan)\n",
    "                            labels.append(label)\n",
    "\n",
    "\n",
    "                    elif 'fire' in file and fire < max_by_experiment:\n",
    "                        fire += 1\n",
    "                        for pic in sorted(os.listdir(os.path.join(path_to_folder, folder, 'images'))):\n",
    "                            img = load_img(os.path.join(os.path.join(path_to_folder, folder, 'images'), pic), target_size=(200, 200), color_mode='grayscale')  # Ajustar tamaño y modo de color\n",
    "                            img_array = img_to_array(img) / 128.0 -1  # Normalizar la imagen\n",
    "                            images.append(img_array)\n",
    "                        \n",
    "                        labels_txt = np.loadtxt(os.path.join(path_to_folder, folder, file), delimiter=' ')\n",
    "\n",
    "                        for label in labels_txt:\n",
    "                            label = [np.array([np.nan]*2), label, np.array([np.nan])]\n",
    "                            label = pad_sequences(label, dtype='float32', padding='post', value=np.nan)\n",
    "                            labels.append(label)\n",
    "\n",
    "                            \n",
    "                    elif 'sync' in file and steer < max_by_experiment:\n",
    "                        steer += 1\n",
    "                        for pic in sorted(os.listdir(os.path.join(path_to_folder, folder, 'images'))):\n",
    "                            img = load_img(os.path.join(os.path.join(path_to_folder, folder, 'images'), pic), target_size=(200, 200), color_mode='grayscale')\n",
    "                            img_array = img_to_array(img) / 128.0 - 1\n",
    "                            images.append(img_array)\n",
    "\n",
    "                        labels_txt = np.loadtxt(os.path.join(path_to_folder, folder, file), usecols=0, delimiter=',', skiprows=1)\n",
    "\n",
    "                        for label in labels_txt:\n",
    "                            label = [np.array([np.nan]*2), np.array([np.nan]*4), np.array([label])]\n",
    "                            label = pad_sequences(label, dtype='float32', padding='post', value=np.nan)\n",
    "                            labels.append(label)\n",
    "\n",
    "    return np.array(images), np.array(labels)\n",
    "\n",
    "images_test, labels_test = dataset_creator('../../../testing', 5)\n",
    "indices = np.random.permutation(images_test.shape[0])\n",
    "images_test = images_test[indices]\n",
    "images_test = torch.tensor(images_test).permute(0, 3, 1, 2)\n",
    "labels_test = labels_test[indices]\n",
    "y_col_test, y_fire_test, y_steer_test = labels_test[:,0, :][:, :2], labels_test[:, 1, :], labels_test[:, 2, :][:, 0]\n",
    "y_col_test, y_fire_test, y_steer_test = torch.tensor(y_col_test), torch.tensor(y_fire_test), torch.tensor(y_steer_test)"
   ]
  },
  {
   "cell_type": "code",
   "execution_count": null,
   "metadata": {},
   "outputs": [],
   "source": []
  }
 ],
 "metadata": {
  "kernelspec": {
   "display_name": ".venv",
   "language": "python",
   "name": "python3"
  },
  "language_info": {
   "codemirror_mode": {
    "name": "ipython",
    "version": 3
   },
   "file_extension": ".py",
   "mimetype": "text/x-python",
   "name": "python",
   "nbconvert_exporter": "python",
   "pygments_lexer": "ipython3",
   "version": "3.12.3"
  }
 },
 "nbformat": 4,
 "nbformat_minor": 2
}
