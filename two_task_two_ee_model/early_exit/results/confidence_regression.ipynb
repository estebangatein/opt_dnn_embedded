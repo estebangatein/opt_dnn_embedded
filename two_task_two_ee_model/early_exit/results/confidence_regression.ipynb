{
 "cells": [
  {
   "cell_type": "code",
   "execution_count": 66,
   "metadata": {},
   "outputs": [],
   "source": [
    "import torch\n",
    "from model import TwoEE\n",
    "import pandas as pd\n",
    "import numpy as np\n",
    "import matplotlib.pyplot as plt\n",
    "import pickle as pkl\n",
    "import os\n",
    "from tensorflow.keras.utils import load_img, img_to_array\n",
    "from tensorflow.keras.preprocessing.sequence import pad_sequences\n",
    "from sklearn.metrics import accuracy_score, classification_report\n",
    "import onnxruntime as ort\n",
    "from tqdm import tqdm\n",
    "import os\n",
    "from torchsummary import summary"
   ]
  },
  {
   "cell_type": "code",
   "execution_count": 67,
   "metadata": {},
   "outputs": [],
   "source": [
    "def dataset_creator(path_to_folder, max_by_experiment = 3):\n",
    "    col, fire, steer = 0, 0, 0\n",
    "    images, labels = [], []\n",
    "\n",
    "    for folder in os.listdir(path_to_folder):\n",
    "\n",
    "        if os.path.isdir(os.path.join(path_to_folder, folder)):\n",
    "\n",
    "            for file in os.listdir(os.path.join(path_to_folder, folder)):\n",
    "\n",
    "                if file.endswith('.txt'):\n",
    "                    if 'labels' in file and col < max_by_experiment:\n",
    "                        col += 1\n",
    "                        for pic in sorted(os.listdir(os.path.join(path_to_folder, folder, 'images'))):\n",
    "                            img = load_img(os.path.join(os.path.join(path_to_folder, folder, 'images'), pic), target_size=(200, 200), color_mode='grayscale')  # Ajustar tamaño y modo de color\n",
    "                            img_array = img_to_array(img) / 128.0 -1 # Normalizar la imagen\n",
    "                            images.append(img_array)\n",
    "                        \n",
    "                        labels_txt = np.loadtxt(os.path.join(path_to_folder, folder, file))\n",
    "\n",
    "                        for label in labels_txt:\n",
    "                            if label == 0:\n",
    "                                label = [np.array([1, 0]), np.array([np.nan]*4), np.array([np.nan])]\n",
    "                            elif label == 1:\n",
    "                                label = [np.array([0, 1]), np.array([np.nan]*4), np.array([np.nan])]\n",
    "                            label = pad_sequences(label, dtype='float32', padding='post', value=np.nan)\n",
    "                            labels.append(label)\n",
    "\n",
    "\n",
    "                    elif 'fire' in file and fire < max_by_experiment:\n",
    "                        fire += 1\n",
    "                        for pic in sorted(os.listdir(os.path.join(path_to_folder, folder, 'images'))):\n",
    "                            img = load_img(os.path.join(os.path.join(path_to_folder, folder, 'images'), pic), target_size=(200, 200), color_mode='grayscale')  # Ajustar tamaño y modo de color\n",
    "                            img_array = img_to_array(img) / 128.0 -1  # Normalizar la imagen\n",
    "                            images.append(img_array)\n",
    "                        \n",
    "                        labels_txt = np.loadtxt(os.path.join(path_to_folder, folder, file), delimiter=' ')\n",
    "\n",
    "                        for label in labels_txt:\n",
    "                            label = [np.array([np.nan]*2), label, np.array([np.nan])]\n",
    "                            label = pad_sequences(label, dtype='float32', padding='post', value=np.nan)\n",
    "                            labels.append(label)\n",
    "\n",
    "                            \n",
    "                    elif 'sync' in file and steer < max_by_experiment:\n",
    "                        steer += 1\n",
    "                        for pic in sorted(os.listdir(os.path.join(path_to_folder, folder, 'images'))):\n",
    "                            img = load_img(os.path.join(os.path.join(path_to_folder, folder, 'images'), pic), target_size=(200, 200), color_mode='grayscale')\n",
    "                            img_array = img_to_array(img) / 128.0 - 1\n",
    "                            images.append(img_array)\n",
    "\n",
    "                        labels_txt = np.loadtxt(os.path.join(path_to_folder, folder, file), usecols=0, delimiter=',', skiprows=1)\n",
    "\n",
    "                        for label in labels_txt:\n",
    "                            label = [np.array([np.nan]*2), np.array([np.nan]*4), np.array([label])]\n",
    "                            label = pad_sequences(label, dtype='float32', padding='post', value=np.nan)\n",
    "                            labels.append(label)\n",
    "\n",
    "    return np.array(images), np.array(labels)\n",
    "\n",
    "images_test, labels_test = dataset_creator('../../../testing', 5)\n",
    "indices = np.random.permutation(images_test.shape[0])\n",
    "images_test = images_test[indices]\n",
    "images_test = torch.tensor(images_test).permute(0, 3, 1, 2)\n",
    "labels_test = labels_test[indices]\n",
    "y_col_test, y_fire_test, y_steer_test = labels_test[:,0, :][:, :2], labels_test[:, 1, :], labels_test[:, 2, :][:, 0]\n",
    "y_col_test, y_fire_test, y_steer_test = torch.tensor(y_col_test), torch.tensor(y_fire_test), torch.tensor(y_steer_test)"
   ]
  },
  {
   "cell_type": "code",
   "execution_count": 68,
   "metadata": {},
   "outputs": [
    {
     "name": "stderr",
     "output_type": "stream",
     "text": [
      "/tmp/ipykernel_11589/1033878583.py:2: FutureWarning: You are using `torch.load` with `weights_only=False` (the current default value), which uses the default pickle module implicitly. It is possible to construct malicious pickle data which will execute arbitrary code during unpickling (See https://github.com/pytorch/pytorch/blob/main/SECURITY.md#untrusted-models for more details). In a future release, the default value for `weights_only` will be flipped to `True`. This limits the functions that could be executed during unpickling. Arbitrary objects will no longer be allowed to be loaded via this mode unless they are explicitly allowlisted by the user via `torch.serialization.add_safe_globals`. We recommend you start setting `weights_only=True` for any use case where you don't have full control of the loaded file. Please open an issue on GitHub for any issues related to this experimental feature.\n",
      "  model.load_state_dict(torch.load('trained_model.pth'))\n"
     ]
    },
    {
     "data": {
      "text/plain": [
       "<All keys matched successfully>"
      ]
     },
     "execution_count": 68,
     "metadata": {},
     "output_type": "execute_result"
    }
   ],
   "source": [
    "model = TwoEE()\n",
    "model.load_state_dict(torch.load('trained_model.pth'))"
   ]
  },
  {
   "cell_type": "code",
   "execution_count": 69,
   "metadata": {},
   "outputs": [],
   "source": [
    "mask = torch.isnan(y_steer_test)\n",
    "images_test = images_test[~mask]\n",
    "y_steer_test = y_steer_test[~mask]"
   ]
  },
  {
   "cell_type": "code",
   "execution_count": 71,
   "metadata": {},
   "outputs": [
    {
     "name": "stderr",
     "output_type": "stream",
     "text": [
      "100%|██████████| 474/474 [03:09<00:00,  2.51it/s]\n"
     ]
    }
   ],
   "source": [
    "# Test the model and append the results to a list\n",
    "y_pred = []\n",
    "model.eval()\n",
    "with torch.no_grad():\n",
    "    for i in tqdm(range(len(images_test)-1500)):\n",
    "        y_pred.append(model(images_test[i].unsqueeze(0)))"
   ]
  },
  {
   "cell_type": "code",
   "execution_count": 72,
   "metadata": {},
   "outputs": [],
   "source": [
    "y_pred = np.array(y_pred)[:, 1, :].squeeze()\n",
    "error = np.abs(y_pred - np.array(y_steer_test[:len(y_pred)]))"
   ]
  },
  {
   "cell_type": "code",
   "execution_count": 54,
   "metadata": {},
   "outputs": [],
   "source": [
    "X = images_test[:len(y_pred)].squeeze(1)\n",
    "X = X.view(X.size(0), -1)\n",
    "X = np.hstack([X, y_pred.reshape(-1, 1)])"
   ]
  },
  {
   "cell_type": "code",
   "execution_count": 124,
   "metadata": {},
   "outputs": [
    {
     "name": "stdout",
     "output_type": "stream",
     "text": [
      "Mean Squared Error: 0.0030182959\n",
      "R2: 0.98663634\n"
     ]
    }
   ],
   "source": [
    "from sklearn.linear_model import Lasso\n",
    "from sklearn.model_selection import train_test_split\n",
    "\n",
    "X_train, X_test, y_train, y_test = train_test_split(X, error, test_size=0.2, random_state=42)\n",
    "\n",
    "y_train, y_test = y_train * 100, y_test * 100\n",
    "\n",
    "\n",
    "lasso = Lasso(alpha=0.1)\n",
    "lasso.fit(X_train, y_train)\n",
    "\n",
    "\n",
    "y_pred = lasso.predict(X_test)\n",
    "print('Mean Squared Error:', np.mean((y_pred/100 - y_test/100)**2))\n",
    "\n",
    "var_y = np.var(error) * len(y_test)\n",
    "r2 = 1 - np.mean((y_pred/100 - y_test/100)**2) / var_y\n",
    "print('R2:', r2)"
   ]
  },
  {
   "cell_type": "code",
   "execution_count": 134,
   "metadata": {},
   "outputs": [
    {
     "name": "stdout",
     "output_type": "stream",
     "text": [
      "Confianza: [0.35893106]\n"
     ]
    }
   ],
   "source": [
    "# ejemplo para una muestra:\n",
    "\n",
    "sigma = np.sqrt(lasso.predict(X_test[19].reshape(1, -1))/100)\n",
    "max_error = np.max(error)\n",
    "confianza = 1 - sigma / max_error\n",
    "\n",
    "print('Confianza:', confianza)"
   ]
  }
 ],
 "metadata": {
  "kernelspec": {
   "display_name": ".venv",
   "language": "python",
   "name": "python3"
  },
  "language_info": {
   "codemirror_mode": {
    "name": "ipython",
    "version": 3
   },
   "file_extension": ".py",
   "mimetype": "text/x-python",
   "name": "python",
   "nbconvert_exporter": "python",
   "pygments_lexer": "ipython3",
   "version": "3.12.3"
  }
 },
 "nbformat": 4,
 "nbformat_minor": 2
}
