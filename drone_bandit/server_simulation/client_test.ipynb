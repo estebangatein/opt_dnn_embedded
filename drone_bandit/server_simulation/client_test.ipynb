{
 "cells": [
  {
   "cell_type": "code",
   "execution_count": 12,
   "metadata": {},
   "outputs": [],
   "source": [
    "import socket\n",
    "import struct\n",
    "import torch\n",
    "import io\n",
    "from simple_model import simple_model\n",
    "from torchsummary import summary"
   ]
  },
  {
   "cell_type": "markdown",
   "metadata": {},
   "source": [
    "To run the test, first launch the server in a terminal executing the server_receive.py script"
   ]
  },
  {
   "cell_type": "code",
   "execution_count": 13,
   "metadata": {},
   "outputs": [
    {
     "name": "stdout",
     "output_type": "stream",
     "text": [
      "----------------------------------------------------------------\n",
      "        Layer (type)               Output Shape         Param #\n",
      "================================================================\n",
      "            Conv2d-1         [-1, 16, 100, 100]             416\n",
      "              ReLU-2         [-1, 16, 100, 100]               0\n",
      "            Conv2d-3           [-1, 32, 50, 50]           4,640\n",
      "              ReLU-4           [-1, 32, 50, 50]               0\n",
      "            Linear-5                    [-1, 4]         320,004\n",
      "            Conv2d-6           [-1, 64, 25, 25]          18,496\n",
      "              ReLU-7           [-1, 64, 25, 25]               0\n",
      "            Conv2d-8           [-1, 64, 13, 13]          36,928\n",
      "              ReLU-9           [-1, 64, 13, 13]               0\n",
      "           Linear-10                    [-1, 4]          43,268\n",
      "================================================================\n",
      "Total params: 423,752\n",
      "Trainable params: 423,752\n",
      "Non-trainable params: 0\n",
      "----------------------------------------------------------------\n",
      "Input size (MB): 0.15\n",
      "Forward/backward pass size (MB): 4.44\n",
      "Params size (MB): 1.62\n",
      "Estimated Total Size (MB): 6.21\n",
      "----------------------------------------------------------------\n"
     ]
    }
   ],
   "source": [
    "model = simple_model()\n",
    "summary(model, (1, 200, 200))"
   ]
  },
  {
   "cell_type": "code",
   "execution_count": 14,
   "metadata": {},
   "outputs": [],
   "source": [
    "# server ip and port\n",
    "\n",
    "SERVER_IP = '127.0.0.1'\n",
    "PORT = 5000"
   ]
  },
  {
   "cell_type": "code",
   "execution_count": 15,
   "metadata": {},
   "outputs": [],
   "source": [
    "# cutting point and intermediate output\n",
    "\n",
    "p = 4\n",
    "intermediate_output = torch.randn(1, 64, 25, 25)"
   ]
  },
  {
   "cell_type": "code",
   "execution_count": 16,
   "metadata": {},
   "outputs": [],
   "source": [
    "def send_data():\n",
    "    s = socket.socket(socket.AF_INET, socket.SOCK_STREAM)\n",
    "    s.connect((SERVER_IP, PORT))\n",
    "\n",
    "    s.sendall(struct.pack('i', p))\n",
    "\n",
    "    buffer = io.BytesIO()\n",
    "    torch.save(intermediate_output, buffer)\n",
    "    s.sendall(buffer.getvalue())\n",
    "\n",
    "    s.close()\n",
    "    print('Data sent') "
   ]
  },
  {
   "cell_type": "code",
   "execution_count": 17,
   "metadata": {},
   "outputs": [
    {
     "name": "stdout",
     "output_type": "stream",
     "text": [
      "Data sent\n"
     ]
    }
   ],
   "source": [
    "if __name__ == '__main__':\n",
    "    send_data()"
   ]
  }
 ],
 "metadata": {
  "kernelspec": {
   "display_name": ".venv",
   "language": "python",
   "name": "python3"
  },
  "language_info": {
   "codemirror_mode": {
    "name": "ipython",
    "version": 3
   },
   "file_extension": ".py",
   "mimetype": "text/x-python",
   "name": "python",
   "nbconvert_exporter": "python",
   "pygments_lexer": "ipython3",
   "version": "3.12.3"
  }
 },
 "nbformat": 4,
 "nbformat_minor": 2
}
