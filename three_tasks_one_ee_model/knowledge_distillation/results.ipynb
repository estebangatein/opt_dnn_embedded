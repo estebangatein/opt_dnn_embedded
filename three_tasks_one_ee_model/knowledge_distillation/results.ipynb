{
 "cells": [
  {
   "cell_type": "code",
   "execution_count": 1,
   "metadata": {},
   "outputs": [],
   "source": [
    "from student import *\n",
    "from torchsummary import summary"
   ]
  },
  {
   "cell_type": "code",
   "execution_count": 2,
   "metadata": {},
   "outputs": [],
   "source": [
    "model = StudentOneEE()"
   ]
  },
  {
   "cell_type": "code",
   "execution_count": 3,
   "metadata": {},
   "outputs": [
    {
     "name": "stdout",
     "output_type": "stream",
     "text": [
      "----------------------------------------------------------------\n",
      "        Layer (type)               Output Shape         Param #\n",
      "================================================================\n",
      "            Conv2d-1         [-1, 16, 200, 200]             160\n",
      "       BatchNorm2d-2         [-1, 16, 200, 200]              32\n",
      "         MaxPool2d-3         [-1, 16, 100, 100]               0\n",
      "            Conv2d-4         [-1, 32, 100, 100]           4,640\n",
      "       BatchNorm2d-5         [-1, 32, 100, 100]              64\n",
      "         MaxPool2d-6           [-1, 32, 50, 50]               0\n",
      "            Linear-7                    [-1, 4]         320,004\n",
      "            Conv2d-8           [-1, 64, 50, 50]          18,496\n",
      "       BatchNorm2d-9           [-1, 64, 50, 50]             128\n",
      "        MaxPool2d-10           [-1, 64, 25, 25]               0\n",
      "           Conv2d-11          [-1, 128, 25, 25]          73,856\n",
      "      BatchNorm2d-12          [-1, 128, 25, 25]             256\n",
      "        MaxPool2d-13          [-1, 128, 12, 12]               0\n",
      "        MaxPool2d-14            [-1, 128, 6, 6]               0\n",
      "           Linear-15                    [-1, 4]          18,436\n",
      "           Linear-16                   [-1, 64]         294,976\n",
      "           Linear-17                    [-1, 1]              65\n",
      "           Linear-18                   [-1, 64]         294,976\n",
      "           Linear-19                    [-1, 1]              65\n",
      "================================================================\n",
      "Total params: 1,026,154\n",
      "Trainable params: 1,026,154\n",
      "Non-trainable params: 0\n",
      "----------------------------------------------------------------\n",
      "Input size (MB): 0.15\n",
      "Forward/backward pass size (MB): 20.62\n",
      "Params size (MB): 3.91\n",
      "Estimated Total Size (MB): 24.69\n",
      "----------------------------------------------------------------\n"
     ]
    }
   ],
   "source": [
    "summary(model, (1, 200, 200))"
   ]
  }
 ],
 "metadata": {
  "kernelspec": {
   "display_name": ".venv",
   "language": "python",
   "name": "python3"
  },
  "language_info": {
   "codemirror_mode": {
    "name": "ipython",
    "version": 3
   },
   "file_extension": ".py",
   "mimetype": "text/x-python",
   "name": "python",
   "nbconvert_exporter": "python",
   "pygments_lexer": "ipython3",
   "version": "3.12.3"
  }
 },
 "nbformat": 4,
 "nbformat_minor": 2
}
