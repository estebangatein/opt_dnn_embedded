{
 "cells": [
  {
   "cell_type": "code",
   "execution_count": 17,
   "metadata": {},
   "outputs": [],
   "source": [
    "from student import *\n",
    "from torchsummary import summary\n",
    "import pandas as pd\n",
    "import numpy as np\n",
    "import matplotlib.pyplot as plt\n",
    "import pickle as pkl\n",
    "import os\n",
    "from tensorflow.keras.utils import load_img, img_to_array\n",
    "from tensorflow.keras.preprocessing.sequence import pad_sequences\n",
    "from sklearn.metrics import accuracy_score, classification_report\n",
    "import onnxruntime as ort\n",
    "import os\n",
    "from sklearn.metrics import accuracy_score, mean_squared_error\n",
    "from tqdm import tqdm"
   ]
  },
  {
   "cell_type": "code",
   "execution_count": null,
   "metadata": {},
   "outputs": [],
   "source": [
    "def dataset_creator(path_to_folder, max_by_experiment = 3):\n",
    "    col, fire, steer = 0, 0, 0\n",
    "    images, labels = [], []\n",
    "\n",
    "    for folder in os.listdir(path_to_folder):\n",
    "\n",
    "        if os.path.isdir(os.path.join(path_to_folder, folder)):\n",
    "\n",
    "            for file in os.listdir(os.path.join(path_to_folder, folder)):\n",
    "\n",
    "                if file.endswith('.txt'):\n",
    "                    if 'labels' in file and col < max_by_experiment:\n",
    "                        col += 1\n",
    "                        for pic in sorted(os.listdir(os.path.join(path_to_folder, folder, 'images'))):\n",
    "                            img = load_img(os.path.join(os.path.join(path_to_folder, folder, 'images'), pic), target_size=(200, 200), color_mode='grayscale')  \n",
    "                            img_array = img_to_array(img) / 128.0 -1 \n",
    "                            images.append(img_array)\n",
    "                        \n",
    "                        labels_txt = np.loadtxt(os.path.join(path_to_folder, folder, file))\n",
    "\n",
    "                        for label in labels_txt:\n",
    "                            if label == 0:\n",
    "                                label = [np.array([1, 0]), np.array([np.nan]*4), np.array([np.nan])]\n",
    "                            elif label == 1:\n",
    "                                label = [np.array([0, 1]), np.array([np.nan]*4), np.array([np.nan])]\n",
    "                            label = pad_sequences(label, dtype='float32', padding='post', value=np.nan)\n",
    "                            labels.append(label)\n",
    "\n",
    "\n",
    "                    elif 'fire' in file and fire < max_by_experiment:\n",
    "                        fire += 1\n",
    "                        for pic in sorted(os.listdir(os.path.join(path_to_folder, folder, 'images'))):\n",
    "                            img = load_img(os.path.join(os.path.join(path_to_folder, folder, 'images'), pic), target_size=(200, 200), color_mode='grayscale')  \n",
    "                            img_array = img_to_array(img) / 128.0 -1  \n",
    "                            images.append(img_array)\n",
    "                        \n",
    "                        labels_txt = np.loadtxt(os.path.join(path_to_folder, folder, file), delimiter=' ')\n",
    "\n",
    "                        for label in labels_txt:\n",
    "                            label = [np.array([np.nan]*2), label, np.array([np.nan])]\n",
    "                            label = pad_sequences(label, dtype='float32', padding='post', value=np.nan)\n",
    "                            labels.append(label)\n",
    "\n",
    "                            \n",
    "                    elif 'sync' in file and steer < max_by_experiment:\n",
    "                        steer += 1\n",
    "                        for pic in sorted(os.listdir(os.path.join(path_to_folder, folder, 'images'))):\n",
    "                            img = load_img(os.path.join(os.path.join(path_to_folder, folder, 'images'), pic), target_size=(200, 200), color_mode='grayscale')\n",
    "                            img_array = img_to_array(img) / 128.0 - 1\n",
    "                            images.append(img_array)\n",
    "\n",
    "                        labels_txt = np.loadtxt(os.path.join(path_to_folder, folder, file), usecols=0, delimiter=',', skiprows=1)\n",
    "\n",
    "                        for label in labels_txt:\n",
    "                            label = [np.array([np.nan]*2), np.array([np.nan]*4), np.array([label])]\n",
    "                            label = pad_sequences(label, dtype='float32', padding='post', value=np.nan)\n",
    "                            labels.append(label)\n",
    "\n",
    "    return np.array(images), np.array(labels)\n",
    "\n",
    "images_test, labels_test = dataset_creator('../../../testing', 5)\n",
    "indices = np.random.permutation(images_test.shape[0])\n",
    "images_test = images_test[indices]\n",
    "images_test = torch.tensor(images_test).permute(0, 3, 1, 2)\n",
    "labels_test = labels_test[indices]\n",
    "y_col_test, y_fire_test, y_steer_test = labels_test[:,0, :][:, :2], labels_test[:, 1, :], labels_test[:, 2, :][:, 0]\n",
    "y_col_test, y_fire_test, y_steer_test = torch.tensor(y_col_test), torch.tensor(y_fire_test), torch.tensor(y_steer_test)"
   ]
  },
  {
   "cell_type": "code",
   "execution_count": 19,
   "metadata": {},
   "outputs": [
    {
     "name": "stderr",
     "output_type": "stream",
     "text": [
      "/tmp/ipykernel_11080/3220605188.py:2: FutureWarning: You are using `torch.load` with `weights_only=False` (the current default value), which uses the default pickle module implicitly. It is possible to construct malicious pickle data which will execute arbitrary code during unpickling (See https://github.com/pytorch/pytorch/blob/main/SECURITY.md#untrusted-models for more details). In a future release, the default value for `weights_only` will be flipped to `True`. This limits the functions that could be executed during unpickling. Arbitrary objects will no longer be allowed to be loaded via this mode unless they are explicitly allowlisted by the user via `torch.serialization.add_safe_globals`. We recommend you start setting `weights_only=True` for any use case where you don't have full control of the loaded file. Please open an issue on GitHub for any issues related to this experimental feature.\n",
      "  state = torch.load('trained_model.pth')\n"
     ]
    },
    {
     "data": {
      "text/plain": [
       "StudentOneEE(\n",
       "  (conv1): Conv2d(1, 16, kernel_size=(3, 3), stride=(1, 1), padding=(1, 1))\n",
       "  (bn1): BatchNorm2d(16, eps=1e-05, momentum=0.1, affine=True, track_running_stats=True)\n",
       "  (pool1): MaxPool2d(kernel_size=2, stride=2, padding=0, dilation=1, ceil_mode=False)\n",
       "  (conv2): Conv2d(16, 32, kernel_size=(3, 3), stride=(1, 1), padding=(1, 1))\n",
       "  (bn2): BatchNorm2d(32, eps=1e-05, momentum=0.1, affine=True, track_running_stats=True)\n",
       "  (pool2): MaxPool2d(kernel_size=2, stride=2, padding=0, dilation=1, ceil_mode=False)\n",
       "  (conv3): Conv2d(32, 64, kernel_size=(3, 3), stride=(1, 1), padding=(1, 1))\n",
       "  (bn3): BatchNorm2d(64, eps=1e-05, momentum=0.1, affine=True, track_running_stats=True)\n",
       "  (pool3): MaxPool2d(kernel_size=2, stride=2, padding=0, dilation=1, ceil_mode=False)\n",
       "  (conv4): Conv2d(64, 128, kernel_size=(3, 3), stride=(1, 1), padding=(1, 1))\n",
       "  (bn4): BatchNorm2d(128, eps=1e-05, momentum=0.1, affine=True, track_running_stats=True)\n",
       "  (pool4): MaxPool2d(kernel_size=2, stride=2, padding=0, dilation=1, ceil_mode=False)\n",
       "  (obj_detect_fc_ee): Linear(in_features=80000, out_features=4, bias=True)\n",
       "  (pool5): MaxPool2d(kernel_size=2, stride=2, padding=0, dilation=1, ceil_mode=False)\n",
       "  (obj_detect_fc_final): Linear(in_features=4608, out_features=4, bias=True)\n",
       "  (binary_fc1): Linear(in_features=4608, out_features=64, bias=True)\n",
       "  (binary_fc2): Linear(in_features=64, out_features=1, bias=True)\n",
       "  (regression_fc1): Linear(in_features=4608, out_features=64, bias=True)\n",
       "  (regression_fc2): Linear(in_features=64, out_features=1, bias=True)\n",
       ")"
      ]
     },
     "execution_count": 19,
     "metadata": {},
     "output_type": "execute_result"
    }
   ],
   "source": [
    "model = StudentOneEE()\n",
    "state = torch.load('trained_model.pth')\n",
    "model.load_state_dict(state)\n",
    "\n",
    "model.eval()"
   ]
  },
  {
   "cell_type": "code",
   "execution_count": 20,
   "metadata": {},
   "outputs": [
    {
     "name": "stdout",
     "output_type": "stream",
     "text": [
      "----------------------------------------------------------------\n",
      "        Layer (type)               Output Shape         Param #\n",
      "================================================================\n",
      "            Conv2d-1         [-1, 16, 200, 200]             160\n",
      "       BatchNorm2d-2         [-1, 16, 200, 200]              32\n",
      "         MaxPool2d-3         [-1, 16, 100, 100]               0\n",
      "            Conv2d-4         [-1, 32, 100, 100]           4,640\n",
      "       BatchNorm2d-5         [-1, 32, 100, 100]              64\n",
      "         MaxPool2d-6           [-1, 32, 50, 50]               0\n",
      "            Linear-7                    [-1, 4]         320,004\n",
      "            Conv2d-8           [-1, 64, 50, 50]          18,496\n",
      "       BatchNorm2d-9           [-1, 64, 50, 50]             128\n",
      "        MaxPool2d-10           [-1, 64, 25, 25]               0\n",
      "           Conv2d-11          [-1, 128, 25, 25]          73,856\n",
      "      BatchNorm2d-12          [-1, 128, 25, 25]             256\n",
      "        MaxPool2d-13          [-1, 128, 12, 12]               0\n",
      "        MaxPool2d-14            [-1, 128, 6, 6]               0\n",
      "           Linear-15                    [-1, 4]          18,436\n",
      "           Linear-16                   [-1, 64]         294,976\n",
      "           Linear-17                    [-1, 1]              65\n",
      "           Linear-18                   [-1, 64]         294,976\n",
      "           Linear-19                    [-1, 1]              65\n",
      "================================================================\n",
      "Total params: 1,026,154\n",
      "Trainable params: 1,026,154\n",
      "Non-trainable params: 0\n",
      "----------------------------------------------------------------\n",
      "Input size (MB): 0.15\n",
      "Forward/backward pass size (MB): 20.62\n",
      "Params size (MB): 3.91\n",
      "Estimated Total Size (MB): 24.69\n",
      "----------------------------------------------------------------\n"
     ]
    }
   ],
   "source": [
    "summary(model, (1, 200, 200))"
   ]
  },
  {
   "cell_type": "markdown",
   "metadata": {},
   "source": [
    "One milion parameters compared to the 160 million used before."
   ]
  },
  {
   "cell_type": "markdown",
   "metadata": {},
   "source": [
    "### Size comparison"
   ]
  },
  {
   "cell_type": "code",
   "execution_count": 21,
   "metadata": {},
   "outputs": [],
   "source": [
    "model_original = os.path.getsize('../../early_exit/ptq_and_ee_implementation/trained_model.onnx')/(1024**2)\n",
    "model_kd = os.path.getsize('trained_model.onnx')/(1024**2)\n",
    "model_kd_ptq = os.path.getsize('quantized_model.onnx')/(1024**2)"
   ]
  },
  {
   "cell_type": "code",
   "execution_count": 22,
   "metadata": {},
   "outputs": [
    {
     "name": "stdout",
     "output_type": "stream",
     "text": [
      "Original model size: 650.882758140564 MB\n",
      "Knowledge distillation model size: 3.9164791107177734 MB\n",
      "Knowledge distillation model with PTQ size: 0.9964971542358398 MB\n"
     ]
    }
   ],
   "source": [
    "print(f'Original model size: {model_original} MB')\n",
    "print(f'Knowledge distillation model size: {model_kd} MB')\n",
    "print(f'Knowledge distillation model with PTQ size: {model_kd_ptq} MB')"
   ]
  },
  {
   "cell_type": "markdown",
   "metadata": {},
   "source": [
    "### Performance metrics Knowledge distillation"
   ]
  },
  {
   "cell_type": "code",
   "execution_count": null,
   "metadata": {},
   "outputs": [],
   "source": [
    "def evaluar_modelo_onnx(modelo_onnx_path, entradas, labels_cls1, labels_cls2, labels_bin, labels_reg):\n",
    "    \"\"\"\n",
    "    Función para evaluar la performance de un modelo ONNX en tareas de clasificación y regresión.\n",
    "\n",
    "    Args:\n",
    "        modelo_onnx_path (str): Ruta al archivo ONNX del modelo.\n",
    "        entradas (list): Lista de entradas para el modelo.\n",
    "        labels_cls1 (list): Etiquetas de clasificación multiclase 1.\n",
    "        labels_cls2 (list): Etiquetas de clasificación multiclase 2.\n",
    "        labels_bin (list): Etiquetas de clasificación binaria.\n",
    "        labels_reg (list): Etiquetas de regresión.\n",
    "\n",
    "    Returns:\n",
    "        dict: Diccionario con las métricas de evaluación.\n",
    "    \"\"\"\n",
    "    # onnx runtime\n",
    "    session = ort.InferenceSession(modelo_onnx_path)\n",
    "\n",
    "    all_pred_cls1 = []\n",
    "    all_pred_cls2 = []\n",
    "    all_pred_bin = []\n",
    "    all_pred_reg = []\n",
    "\n",
    "    all_labels_cls1 = []\n",
    "    all_labels_cls2 = []\n",
    "    all_labels_bin = []\n",
    "    all_labels_reg = []\n",
    "\n",
    "    for i in tqdm(range(len(entradas))):\n",
    "        input_data = entradas[i].numpy().astype(np.float32)  \n",
    "        label_cls1 = labels_cls1[i]\n",
    "        label_cls2 = labels_cls2[i]\n",
    "        label_bin = labels_bin[i]\n",
    "        label_reg = labels_reg[i]\n",
    "\n",
    "        outputs = session.run(None, {session.get_inputs()[0].name: input_data[np.newaxis, ...]})\n",
    "        logits_cls1, logits_cls2, logits_bin, logits_reg = outputs\n",
    "\n",
    "        if not np.isnan(label_cls1).any():\n",
    "            pred_cls1 = np.argmax(logits_cls1, axis=1)[0]  \n",
    "            all_pred_cls1.append(pred_cls1)\n",
    "            all_labels_cls1.append(np.argmax(label_cls1))  \n",
    "\n",
    "        if not np.isnan(label_cls2).any():\n",
    "            pred_cls2 = np.argmax(logits_cls2, axis=1)[0]  \n",
    "            all_pred_cls2.append(pred_cls2)\n",
    "            all_labels_cls2.append(np.argmax(label_cls2))  \n",
    "\n",
    "        if not np.isnan(label_bin).any():\n",
    "            pred_bin = (logits_bin[0][0] > 0.5).astype(int)  \n",
    "            all_pred_bin.append(pred_bin)\n",
    "            all_labels_bin.append(int(label_bin))\n",
    "\n",
    "        if not np.isnan(label_reg).any():\n",
    "            pred_reg = logits_reg[0][0]  \n",
    "            all_pred_reg.append(pred_reg)\n",
    "            all_labels_reg.append(label_reg)\n",
    "\n",
    "    acc_cls1 = accuracy_score(all_labels_cls1, all_pred_cls1) if all_labels_cls1 else None\n",
    "    acc_cls2 = accuracy_score(all_labels_cls2, all_pred_cls2) if all_labels_cls2 else None\n",
    "    acc_bin = accuracy_score(all_labels_bin, all_pred_bin) if all_labels_bin else None\n",
    "    mse_reg = mean_squared_error(all_labels_reg, all_pred_reg) if all_labels_reg else None\n",
    "    \n",
    "    print(f'Precisión clasificación multiclase 1: {acc_cls1:.4f}' if acc_cls1 is not None else 'No hay datos para cls1')\n",
    "    print(f'Precisión clasificación multiclase 2: {acc_cls2:.4f}' if acc_cls2 is not None else 'No hay datos para cls2')\n",
    "    print(f'Precisión clasificación binaria: {acc_bin:.4f}' if acc_bin is not None else 'No hay datos para binaria')\n",
    "    print(f'Error cuadrático medio (MSE) en regresión: {mse_reg:.4f}' if mse_reg is not None else 'No hay datos para regresión')\n",
    "\n",
    "    return {\n",
    "        'acc_cls1': acc_cls1,\n",
    "        'acc_cls2': acc_cls2,\n",
    "        'acc_bin': acc_bin,\n",
    "        'mse_reg': mse_reg\n",
    "    }"
   ]
  },
  {
   "cell_type": "code",
   "execution_count": 24,
   "metadata": {},
   "outputs": [
    {
     "name": "stderr",
     "output_type": "stream",
     "text": [
      "  0%|          | 0/5157 [00:00<?, ?it/s]/tmp/ipykernel_11080/890785527.py:43: DeprecationWarning: __array_wrap__ must accept context and return_scalar arguments (positionally) in the future. (Deprecated NumPy 2.0)\n",
      "  if not np.isnan(label_cls1).any():\n",
      "/tmp/ipykernel_11080/890785527.py:48: DeprecationWarning: __array_wrap__ must accept context and return_scalar arguments (positionally) in the future. (Deprecated NumPy 2.0)\n",
      "  if not np.isnan(label_cls2).any():\n",
      "/tmp/ipykernel_11080/890785527.py:53: DeprecationWarning: __array_wrap__ must accept context and return_scalar arguments (positionally) in the future. (Deprecated NumPy 2.0)\n",
      "  if not np.isnan(label_bin).any():\n",
      "/tmp/ipykernel_11080/890785527.py:58: DeprecationWarning: __array_wrap__ must accept context and return_scalar arguments (positionally) in the future. (Deprecated NumPy 2.0)\n",
      "  if not np.isnan(label_reg).any():\n",
      "100%|██████████| 5157/5157 [00:13<00:00, 369.75it/s]"
     ]
    },
    {
     "name": "stdout",
     "output_type": "stream",
     "text": [
      "Precisión clasificación multiclase 1: 0.1977\n",
      "Precisión clasificación multiclase 2: 0.8112\n",
      "Precisión clasificación binaria: 0.8455\n",
      "Error cuadrático medio (MSE) en regresión: 0.0145\n"
     ]
    },
    {
     "name": "stderr",
     "output_type": "stream",
     "text": [
      "\n"
     ]
    },
    {
     "data": {
      "text/plain": [
       "{'acc_cls1': 0.19774718397997496,\n",
       " 'acc_cls2': 0.8112416107382551,\n",
       " 'acc_bin': 0.8454913880445796,\n",
       " 'mse_reg': np.float32(0.014537488)}"
      ]
     },
     "execution_count": 24,
     "metadata": {},
     "output_type": "execute_result"
    }
   ],
   "source": [
    "evaluar_modelo_onnx('trained_model.onnx', images_test, y_col_test, y_fire_test, y_steer_test, y_steer_test)"
   ]
  },
  {
   "cell_type": "markdown",
   "metadata": {},
   "source": [
    "To compare with the results got in /home/esteban/Desktop/opt_dnn_embedded/three_tasks_one_ee_model/early_exit/results/results.ipynb for the original version."
   ]
  },
  {
   "cell_type": "markdown",
   "metadata": {},
   "source": [
    "### Performance metrics KD + PTQ"
   ]
  },
  {
   "cell_type": "code",
   "execution_count": 25,
   "metadata": {},
   "outputs": [
    {
     "name": "stderr",
     "output_type": "stream",
     "text": [
      "  0%|          | 0/5157 [00:00<?, ?it/s]/tmp/ipykernel_11080/890785527.py:43: DeprecationWarning: __array_wrap__ must accept context and return_scalar arguments (positionally) in the future. (Deprecated NumPy 2.0)\n",
      "  if not np.isnan(label_cls1).any():\n",
      "/tmp/ipykernel_11080/890785527.py:48: DeprecationWarning: __array_wrap__ must accept context and return_scalar arguments (positionally) in the future. (Deprecated NumPy 2.0)\n",
      "  if not np.isnan(label_cls2).any():\n",
      "/tmp/ipykernel_11080/890785527.py:53: DeprecationWarning: __array_wrap__ must accept context and return_scalar arguments (positionally) in the future. (Deprecated NumPy 2.0)\n",
      "  if not np.isnan(label_bin).any():\n",
      "/tmp/ipykernel_11080/890785527.py:58: DeprecationWarning: __array_wrap__ must accept context and return_scalar arguments (positionally) in the future. (Deprecated NumPy 2.0)\n",
      "  if not np.isnan(label_reg).any():\n",
      "100%|██████████| 5157/5157 [00:24<00:00, 206.88it/s]\n"
     ]
    },
    {
     "name": "stdout",
     "output_type": "stream",
     "text": [
      "Precisión clasificación multiclase 1: 0.2065\n",
      "Precisión clasificación multiclase 2: 0.8154\n",
      "Precisión clasificación binaria: 0.8374\n",
      "Error cuadrático medio (MSE) en regresión: 0.0155\n"
     ]
    },
    {
     "data": {
      "text/plain": [
       "{'acc_cls1': 0.2065081351689612,\n",
       " 'acc_cls2': 0.8154362416107382,\n",
       " 'acc_bin': 0.837386018237082,\n",
       " 'mse_reg': np.float32(0.015500564)}"
      ]
     },
     "execution_count": 25,
     "metadata": {},
     "output_type": "execute_result"
    }
   ],
   "source": [
    "evaluar_modelo_onnx('quantized_model.onnx', images_test, y_col_test, y_fire_test, y_steer_test, y_steer_test)"
   ]
  }
 ],
 "metadata": {
  "kernelspec": {
   "display_name": ".venv",
   "language": "python",
   "name": "python3"
  },
  "language_info": {
   "codemirror_mode": {
    "name": "ipython",
    "version": 3
   },
   "file_extension": ".py",
   "mimetype": "text/x-python",
   "name": "python",
   "nbconvert_exporter": "python",
   "pygments_lexer": "ipython3",
   "version": "3.12.3"
  }
 },
 "nbformat": 4,
 "nbformat_minor": 2
}
