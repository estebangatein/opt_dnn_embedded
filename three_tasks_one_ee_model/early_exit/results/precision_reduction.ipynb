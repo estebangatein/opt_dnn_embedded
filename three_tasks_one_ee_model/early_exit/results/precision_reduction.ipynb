{
 "cells": [
  {
   "cell_type": "code",
   "execution_count": 4,
   "metadata": {},
   "outputs": [],
   "source": [
    "import torch\n",
    "from model import *\n",
    "from torchsummary import summary    \n",
    "import pickle"
   ]
  },
  {
   "cell_type": "code",
   "execution_count": 3,
   "metadata": {},
   "outputs": [
    {
     "name": "stderr",
     "output_type": "stream",
     "text": [
      "/tmp/ipykernel_24886/4280291455.py:2: FutureWarning: You are using `torch.load` with `weights_only=False` (the current default value), which uses the default pickle module implicitly. It is possible to construct malicious pickle data which will execute arbitrary code during unpickling (See https://github.com/pytorch/pytorch/blob/main/SECURITY.md#untrusted-models for more details). In a future release, the default value for `weights_only` will be flipped to `True`. This limits the functions that could be executed during unpickling. Arbitrary objects will no longer be allowed to be loaded via this mode unless they are explicitly allowlisted by the user via `torch.serialization.add_safe_globals`. We recommend you start setting `weights_only=True` for any use case where you don't have full control of the loaded file. Please open an issue on GitHub for any issues related to this experimental feature.\n",
      "  state = torch.load('trained_model.pth')\n"
     ]
    },
    {
     "data": {
      "text/plain": [
       "<All keys matched successfully>"
      ]
     },
     "execution_count": 3,
     "metadata": {},
     "output_type": "execute_result"
    }
   ],
   "source": [
    "model = OneEE()\n",
    "state = torch.load('trained_model.pth')\n",
    "model.load_state_dict(state)"
   ]
  },
  {
   "cell_type": "code",
   "execution_count": 5,
   "metadata": {},
   "outputs": [
    {
     "name": "stdout",
     "output_type": "stream",
     "text": [
      "----------------------------------------------------------------\n",
      "        Layer (type)               Output Shape         Param #\n",
      "================================================================\n",
      "            Conv2d-1         [-1, 32, 200, 200]             320\n",
      "       BatchNorm2d-2         [-1, 32, 200, 200]              64\n",
      "            Conv2d-3         [-1, 64, 200, 200]          18,496\n",
      "       BatchNorm2d-4         [-1, 64, 200, 200]             128\n",
      "         MaxPool2d-5         [-1, 64, 100, 100]               0\n",
      "            Conv2d-6        [-1, 128, 100, 100]          73,856\n",
      "       BatchNorm2d-7        [-1, 128, 100, 100]             256\n",
      "            Conv2d-8        [-1, 256, 100, 100]         295,168\n",
      "       BatchNorm2d-9        [-1, 256, 100, 100]             512\n",
      "        MaxPool2d-10          [-1, 256, 50, 50]               0\n",
      "           Conv2d-11          [-1, 128, 50, 50]         295,040\n",
      "      BatchNorm2d-12          [-1, 128, 50, 50]             256\n",
      "           Linear-13                    [-1, 4]       1,280,004\n",
      "           Conv2d-14          [-1, 512, 50, 50]       1,180,160\n",
      "      BatchNorm2d-15          [-1, 512, 50, 50]           1,024\n",
      "           Conv2d-16          [-1, 512, 50, 50]       2,359,808\n",
      "      BatchNorm2d-17          [-1, 512, 50, 50]           1,024\n",
      "        MaxPool2d-18          [-1, 512, 25, 25]               0\n",
      "           Linear-19                    [-1, 4]       1,280,004\n",
      "           Linear-20                  [-1, 256]      81,920,256\n",
      "           Linear-21                    [-1, 1]             257\n",
      "           Linear-22                  [-1, 256]      81,920,256\n",
      "           Linear-23                    [-1, 1]             257\n",
      "================================================================\n",
      "Total params: 170,627,146\n",
      "Trainable params: 170,627,146\n",
      "Non-trainable params: 0\n",
      "----------------------------------------------------------------\n",
      "Input size (MB): 0.15\n",
      "Forward/backward pass size (MB): 173.34\n",
      "Params size (MB): 650.89\n",
      "Estimated Total Size (MB): 824.39\n",
      "----------------------------------------------------------------\n"
     ]
    }
   ],
   "source": [
    "summary(model, (1, 200, 200))"
   ]
  },
  {
   "cell_type": "markdown",
   "metadata": {},
   "source": [
    "The layer that has to be desactivated if the early exit is taken is Linear-19, with 1280004 paraneters, so 1280004 MACs, or 2560008 operations (multiply and sum)."
   ]
  },
  {
   "cell_type": "code",
   "execution_count": 6,
   "metadata": {},
   "outputs": [],
   "source": [
    "# load the data of pickle file\n",
    "import pickle\n",
    "\n",
    "with open('metrics_EE.pkl', 'rb') as f:\n",
    "    data = pickle.load(f)"
   ]
  },
  {
   "cell_type": "code",
   "execution_count": 7,
   "metadata": {},
   "outputs": [
    {
     "data": {
      "text/plain": [
       "{'acc_cls1': 0.7818791946308725,\n",
       " 'acc_cls2': 0.8083053691275168,\n",
       " 'acc_bin': 0.9499374217772215,\n",
       " 'mse_reg': np.float64(0.0017734443385888697),\n",
       " 'best_threshold': np.float64(0.9500000000000003),\n",
       " 'best_accuracy': 0.86084142394822,\n",
       " 'proportion where threshold is applied': 0.7776845637583892}"
      ]
     },
     "execution_count": 7,
     "metadata": {},
     "output_type": "execute_result"
    }
   ],
   "source": [
    "data"
   ]
  },
  {
   "cell_type": "code",
   "execution_count": 18,
   "metadata": {},
   "outputs": [
    {
     "name": "stdout",
     "output_type": "stream",
     "text": [
      "Over 100 inferences, aprox 28456464.77 MACs will be saved\n",
      "Which represents a 44.76 % discount in MACs over the task\n"
     ]
    }
   ],
   "source": [
    "# over a 100 inferences\n",
    "\n",
    "num_discount =( 1 - data['proportion where threshold is applied']) * 1280004 * 100\n",
    "\n",
    "print(f\"Over 100 inferences, aprox {num_discount:.2f} MACs will be saved\")\n",
    "print(f\"Which represents a {num_discount / ((1280004*2 + 300000)*(1-data['proportion where threshold is applied'])):.2f} % discount in MACs over the task\")"
   ]
  }
 ],
 "metadata": {
  "kernelspec": {
   "display_name": ".venv",
   "language": "python",
   "name": "python3"
  },
  "language_info": {
   "codemirror_mode": {
    "name": "ipython",
    "version": 3
   },
   "file_extension": ".py",
   "mimetype": "text/x-python",
   "name": "python",
   "nbconvert_exporter": "python",
   "pygments_lexer": "ipython3",
   "version": "3.12.3"
  }
 },
 "nbformat": 4,
 "nbformat_minor": 2
}
