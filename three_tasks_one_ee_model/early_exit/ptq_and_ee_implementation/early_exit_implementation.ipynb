{
 "cells": [
  {
   "cell_type": "code",
   "execution_count": 112,
   "metadata": {},
   "outputs": [],
   "source": [
    "import torch\n",
    "import onnx\n",
    "from onnx import helper, numpy_helper\n",
    "import onnxruntime as ort\n",
    "import numpy as np"
   ]
  },
  {
   "cell_type": "markdown",
   "metadata": {},
   "source": [
    "### Implementation of the early exit strategy"
   ]
  },
  {
   "cell_type": "code",
   "execution_count": 113,
   "metadata": {},
   "outputs": [],
   "source": [
    "model = onnx.load(\"trained_model.onnx\") "
   ]
  },
  {
   "cell_type": "code",
   "execution_count": null,
   "metadata": {},
   "outputs": [
    {
     "name": "stdout",
     "output_type": "stream",
     "text": [
      "Entradas: ['input']\n",
      "Salidas: ['early_exit', 'final_exit', '92', '95']\n",
      "/conv1/Conv Conv ['/conv1/Conv_output_0']\n",
      "/Relu Relu ['/Relu_output_0']\n",
      "/conv2/Conv Conv ['/conv2/Conv_output_0']\n",
      "/Relu_1 Relu ['/Relu_1_output_0']\n",
      "/pool1/MaxPool MaxPool ['/pool1/MaxPool_output_0']\n",
      "/conv3/Conv Conv ['/conv3/Conv_output_0']\n",
      "/Relu_2 Relu ['/Relu_2_output_0']\n",
      "/conv4/Conv Conv ['/conv4/Conv_output_0']\n",
      "/Relu_3 Relu ['/Relu_3_output_0']\n",
      "/pool2/MaxPool MaxPool ['/pool2/MaxPool_output_0']\n",
      "/obj_detect_conv/Conv Conv ['/obj_detect_conv/Conv_output_0']\n",
      "/Relu_4 Relu ['/Relu_4_output_0']\n",
      "/Flatten Flatten ['/Flatten_output_0']\n",
      "/obj_detect_fc_ee/Gemm Gemm ['early_exit']\n",
      "/conv5/Conv Conv ['/conv5/Conv_output_0']\n",
      "/Relu_5 Relu ['/Relu_5_output_0']\n",
      "/conv6/Conv Conv ['/conv6/Conv_output_0']\n",
      "/Relu_6 Relu ['/Relu_6_output_0']\n",
      "/pool3/MaxPool MaxPool ['/pool3/MaxPool_output_0']\n",
      "/Flatten_1 Flatten ['/Flatten_1_output_0']\n",
      "/obj_detect_fc_final/Gemm Gemm ['final_exit']\n",
      "/binary_fc1/Gemm Gemm ['/binary_fc1/Gemm_output_0']\n",
      "/Relu_7 Relu ['/Relu_7_output_0']\n",
      "/binary_fc2/Gemm Gemm ['92']\n",
      "/regression_fc1/Gemm Gemm ['/regression_fc1/Gemm_output_0']\n",
      "/Relu_8 Relu ['/Relu_8_output_0']\n",
      "/regression_fc2/Gemm Gemm ['95']\n"
     ]
    }
   ],
   "source": [
    "print(\"Entradas:\", [input.name for input in model.graph.input])\n",
    "print(\"Salidas:\", [output.name for output in model.graph.output])\n",
    "\n",
    "# inspect nodes to identify the early exit\n",
    "for node in model.graph.node:\n",
    "    print(node.name, node.op_type, [i for i in node.output])\n"
   ]
  },
  {
   "cell_type": "code",
   "execution_count": null,
   "metadata": {},
   "outputs": [],
   "source": [
    "gemm_weights = np.random.rand(4, 256).astype(np.float32)  # adjust dimensions to  match the original model\n",
    "gemm_biases = np.random.rand(4).astype(np.float32)\n",
    "\n",
    "# convert to ONNX initializers\n",
    "gemm_weights_initializer = numpy_helper.from_array(gemm_weights, name=\"/obj_detect_fc_final/Gemm_weight\")\n",
    "gemm_biases_initializer = numpy_helper.from_array(gemm_biases, name=\"/obj_detect_fc_final/Gemm_bias\")\n",
    "\n",
    "# add to the graph\n",
    "model.graph.initializer.extend([gemm_weights_initializer, gemm_biases_initializer])\n"
   ]
  },
  {
   "cell_type": "code",
   "execution_count": null,
   "metadata": {},
   "outputs": [],
   "source": [
    "weight_tensor = helper.make_tensor(\n",
    "    name=\"/obj_detect_fc_ee/Gemm_weight\",\n",
    "    data_type=onnx.TensorProto.FLOAT,\n",
    "    dims=[256, 4],  # correct dimensions for the Gemm layer\n",
    "    vals=np.random.rand(256 * 4).astype(np.float32)  \n",
    ")\n",
    "\n",
    "bias_tensor = helper.make_tensor(\n",
    "    name=\"/obj_detect_fc_ee/Gemm_bias\",\n",
    "    data_type=onnx.TensorProto.FLOAT,\n",
    "    dims=[4],  # correct dimensions for the bias\n",
    "    vals=np.random.rand(4).astype(np.float32)  \n",
    ")\n",
    "\n",
    "model.graph.initializer.extend([weight_tensor, bias_tensor])\n"
   ]
  },
  {
   "cell_type": "code",
   "execution_count": null,
   "metadata": {},
   "outputs": [],
   "source": [
    "threshold_value = 0.9  # confidence threshold to be adapted\n",
    "threshold_tensor = numpy_helper.from_array(np.array([threshold_value], dtype=np.float32), name=\"threshold\")\n",
    "model.graph.initializer.append(threshold_tensor)\n",
    "\n",
    "reduce_max_node = helper.make_node(\n",
    "    \"ReduceMax\",\n",
    "    inputs=[\"early_exit\"],\n",
    "    outputs=[\"max_confidence\"],\n",
    "    name=\"reduce_max_node\",\n",
    "    keepdims=0\n",
    ")\n",
    "\n",
    "greater_node = helper.make_node(\n",
    "    \"Greater\",\n",
    "    inputs=[\"max_confidence\", \"threshold\"],\n",
    "    outputs=[\"early_exit_condition\"],\n",
    "    name=\"greater_node\"\n",
    ")\n",
    "\n",
    "model.graph.node.extend([reduce_max_node, greater_node])\n"
   ]
  },
  {
   "cell_type": "code",
   "execution_count": 118,
   "metadata": {},
   "outputs": [],
   "source": [
    "then_branch = helper.make_graph(\n",
    "    nodes=[\n",
    "        helper.make_node(\n",
    "            \"Gemm\",\n",
    "            inputs=[\"/Flatten_output_0\", \"/obj_detect_fc_ee/Gemm_weight\", \"/obj_detect_fc_ee/Gemm_bias\"],\n",
    "            outputs=[\"output_early_exit\"],\n",
    "            name=\"/obj_detect_fc_ee/Gemm\"\n",
    "        )\n",
    "    ],\n",
    "    name=\"then_branch\",\n",
    "    inputs=[\n",
    "        helper.make_tensor_value_info(\"/Flatten_output_0\", onnx.TensorProto.FLOAT, [1, 256])\n",
    "    ],\n",
    "    outputs=[\n",
    "        helper.make_tensor_value_info(\"output_early_exit\", onnx.TensorProto.FLOAT, [1, 4])\n",
    "    ]\n",
    ")\n"
   ]
  },
  {
   "cell_type": "code",
   "execution_count": null,
   "metadata": {},
   "outputs": [],
   "source": [
    "else_branch = helper.make_graph(\n",
    "    nodes=[\n",
    "        helper.make_node(\n",
    "            \"Gemm\",\n",
    "            inputs=[\"/Flatten_1_output_0\", \"/obj_detect_fc_final/Gemm_weight\", \"/obj_detect_fc_final/Gemm_bias\"],\n",
    "            outputs=[\"output_final_exit\"],\n",
    "            name=\"/obj_detect_fc_final/Gemm\"\n",
    "        )\n",
    "    ],\n",
    "    name=\"else_branch\",\n",
    "    inputs=[\n",
    "        helper.make_tensor_value_info(\"/Flatten_1_output_0\", onnx.TensorProto.FLOAT, [1, 256])  \n",
    "    ],\n",
    "    outputs=[\n",
    "        helper.make_tensor_value_info(\"output_final_exit\", onnx.TensorProto.FLOAT, [1, 4])  \n",
    "    ]\n",
    ")\n"
   ]
  },
  {
   "cell_type": "code",
   "execution_count": 120,
   "metadata": {},
   "outputs": [
    {
     "data": {
      "text/plain": [
       "input: \"early_exit_condition\"\n",
       "output: \"final_exit_if\"\n",
       "name: \"if_node\"\n",
       "op_type: \"If\"\n",
       "attribute {\n",
       "  name: \"else_branch\"\n",
       "  g {\n",
       "    node {\n",
       "      input: \"/Flatten_1_output_0\"\n",
       "      input: \"/obj_detect_fc_final/Gemm_weight\"\n",
       "      input: \"/obj_detect_fc_final/Gemm_bias\"\n",
       "      output: \"output_final_exit\"\n",
       "      name: \"/obj_detect_fc_final/Gemm\"\n",
       "      op_type: \"Gemm\"\n",
       "    }\n",
       "    name: \"else_branch\"\n",
       "    input {\n",
       "      name: \"/Flatten_1_output_0\"\n",
       "      type {\n",
       "        tensor_type {\n",
       "          elem_type: 1\n",
       "          shape {\n",
       "            dim {\n",
       "              dim_value: 1\n",
       "            }\n",
       "            dim {\n",
       "              dim_value: 256\n",
       "            }\n",
       "          }\n",
       "        }\n",
       "      }\n",
       "    }\n",
       "    output {\n",
       "      name: \"output_final_exit\"\n",
       "      type {\n",
       "        tensor_type {\n",
       "          elem_type: 1\n",
       "          shape {\n",
       "            dim {\n",
       "              dim_value: 1\n",
       "            }\n",
       "            dim {\n",
       "              dim_value: 4\n",
       "            }\n",
       "          }\n",
       "        }\n",
       "      }\n",
       "    }\n",
       "  }\n",
       "  type: GRAPH\n",
       "}\n",
       "attribute {\n",
       "  name: \"then_branch\"\n",
       "  g {\n",
       "    node {\n",
       "      input: \"/Flatten_output_0\"\n",
       "      input: \"/obj_detect_fc_ee/Gemm_weight\"\n",
       "      input: \"/obj_detect_fc_ee/Gemm_bias\"\n",
       "      output: \"output_early_exit\"\n",
       "      name: \"/obj_detect_fc_ee/Gemm\"\n",
       "      op_type: \"Gemm\"\n",
       "    }\n",
       "    name: \"then_branch\"\n",
       "    input {\n",
       "      name: \"/Flatten_output_0\"\n",
       "      type {\n",
       "        tensor_type {\n",
       "          elem_type: 1\n",
       "          shape {\n",
       "            dim {\n",
       "              dim_value: 1\n",
       "            }\n",
       "            dim {\n",
       "              dim_value: 256\n",
       "            }\n",
       "          }\n",
       "        }\n",
       "      }\n",
       "    }\n",
       "    output {\n",
       "      name: \"output_early_exit\"\n",
       "      type {\n",
       "        tensor_type {\n",
       "          elem_type: 1\n",
       "          shape {\n",
       "            dim {\n",
       "              dim_value: 1\n",
       "            }\n",
       "            dim {\n",
       "              dim_value: 4\n",
       "            }\n",
       "          }\n",
       "        }\n",
       "      }\n",
       "    }\n",
       "  }\n",
       "  type: GRAPH\n",
       "}"
      ]
     },
     "execution_count": 120,
     "metadata": {},
     "output_type": "execute_result"
    }
   ],
   "source": [
    "if_node = helper.make_node(\n",
    "    \"If\",\n",
    "    inputs=[\"early_exit_condition\"],\n",
    "    outputs=[\"final_exit_if\"],\n",
    "    then_branch=then_branch,\n",
    "    else_branch=else_branch,\n",
    "    name=\"if_node\"\n",
    ")\n",
    "\n",
    "model.graph.node.append(if_node)\n"
   ]
  },
  {
   "cell_type": "code",
   "execution_count": null,
   "metadata": {},
   "outputs": [],
   "source": [
    "# check graph execution is valid\n",
    "onnx.checker.check_model(model)"
   ]
  }
 ],
 "metadata": {
  "kernelspec": {
   "display_name": ".venv",
   "language": "python",
   "name": "python3"
  },
  "language_info": {
   "codemirror_mode": {
    "name": "ipython",
    "version": 3
   },
   "file_extension": ".py",
   "mimetype": "text/x-python",
   "name": "python",
   "nbconvert_exporter": "python",
   "pygments_lexer": "ipython3",
   "version": "3.12.3"
  }
 },
 "nbformat": 4,
 "nbformat_minor": 2
}
